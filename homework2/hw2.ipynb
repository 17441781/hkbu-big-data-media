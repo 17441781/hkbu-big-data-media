{
 "cells": [
  {
   "cell_type": "code",
   "execution_count": null,
   "metadata": {},
   "outputs": [],
   "source": [
    "\n",
    "import requests\n",
    "import csv\n",
    "from bs4 import BeautifulSoup\n",
    "import lxml\n",
    "import codecs\n",
    "import time\n",
    "\n",
    "url_one = 'https://www.ted.com/talks?sort=popular&page='\n",
    "urls = []\n",
    "for i in range(1, 21):\n",
    "    url = url_one +  str(i)\n",
    "    urls.append(url)\n",
    "\n",
    "all_talk_speakers = []\n",
    "all_talk_titles = []\n",
    "all_talk_views = []\n",
    "all_talk_hashtags = []\n",
    "\n",
    "for url in urls:\n",
    "    \n",
    "    tedtalk = BeautifulSoup(requests.get(url).text, 'lxml')\n",
    "\n",
    "    speakers = []\n",
    "    for s in tedtalk.find_all('h4', attrs={'class': 'h12 talk-link__speaker'}):\n",
    "        speakers.append(s.text)\n",
    "\n",
    "    titles = []\n",
    "    for t in tedtalk.find_all('h4', attrs={'class': 'h9 m5'}):\n",
    "        titles.append(t.text.strip())\n",
    "\n",
    "    views = []\n",
    "    for v in tedtalk.find_all('span', attrs={'class': 'meta__item'}):\n",
    "        view = v.find('span', attrs={'class': 'meta__val'})\n",
    "        views.append(view.text.strip())\n",
    "\n",
    "    hashtags = []\n",
    "    for h in tedtalk.find_all('span', attrs={'class': 'meta__row'}):\n",
    "        hashtag = h.find('span', attrs={'class': 'meta__val'})\n",
    "        hashtags.append(hashtag.text.strip())\n",
    "\n",
    "    all_talk_speakers.extend(speakers)\n",
    "    all_talk_titles.extend(titles)\n",
    "    all_talk_views.extend(views)\n",
    "    all_talk_hashtags.extend(hashtags)\n",
    "\n",
    "    time.sleep(5) #ted.com limit request rate\n",
    "\n",
    "with codecs.open('tedtalks2.csv', 'w', 'utf_8_sig') as f:\n",
    "    writer = csv.writer(f)\n",
    "    header = ['speakers', 'titles', 'views', 'hashtags']\n",
    "    writer.writerow(header)\n",
    "    writer.writerows(zip(all_talk_speakers, all_talk_titles, \n",
    "                         all_talk_views, all_talk_hashtags))"
   ]
  },
  {
   "cell_type": "code",
   "execution_count": null,
   "metadata": {},
   "outputs": [],
   "source": []
  }
 ],
 "metadata": {
  "kernelspec": {
   "display_name": "Python 3",
   "language": "python",
   "name": "python3"
  },
  "language_info": {
   "codemirror_mode": {
    "name": "ipython",
    "version": 3
   },
   "file_extension": ".py",
   "mimetype": "text/x-python",
   "name": "python",
   "nbconvert_exporter": "python",
   "pygments_lexer": "ipython3",
   "version": "3.6.4"
  }
 },
 "nbformat": 4,
 "nbformat_minor": 2
}
